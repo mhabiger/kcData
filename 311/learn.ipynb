{
 "metadata": {
  "name": ""
 },
 "nbformat": 3,
 "nbformat_minor": 0,
 "worksheets": [
  {
   "cells": [
    {
     "cell_type": "code",
     "collapsed": false,
     "input": [
      "import pandas as pd"
     ],
     "language": "python",
     "metadata": {},
     "outputs": [
      {
       "output_type": "stream",
       "stream": "stderr",
       "text": [
        "/usr/local/lib/python2.7/dist-packages/pandas/io/excel.py:626: UserWarning: Installed openpyxl is not supported at this time. Use >=1.6.1 and <2.0.0.\n",
        "  .format(openpyxl_compat.start_ver, openpyxl_compat.stop_ver))\n"
       ]
      }
     ],
     "prompt_number": 1
    },
    {
     "cell_type": "code",
     "collapsed": false,
     "input": [
      "import matplotlib as mpl\n",
      "from mpl_toolkits.basemap import Basemap\n",
      "import re\n",
      "import operator\n",
      "import feedparser"
     ],
     "language": "python",
     "metadata": {},
     "outputs": [],
     "prompt_number": 2
    },
    {
     "cell_type": "code",
     "collapsed": false,
     "input": [
      "d = pd.read_csv('data/311data')"
     ],
     "language": "python",
     "metadata": {},
     "outputs": [],
     "prompt_number": 3
    },
    {
     "cell_type": "code",
     "collapsed": false,
     "input": [
      "d2 = pd.DataFrame(d,index=range(0,20))\n",
      "d2 = pd.DataFrame(d2,columns=['creation_date', 'closed_date', 'latitude', 'longitude', 'request_type'])\n",
      "d2"
     ],
     "language": "python",
     "metadata": {},
     "outputs": [
      {
       "html": [
        "<div style=\"max-height:1000px;max-width:1500px;overflow:auto;\">\n",
        "<table border=\"1\" class=\"dataframe\">\n",
        "  <thead>\n",
        "    <tr style=\"text-align: right;\">\n",
        "      <th></th>\n",
        "      <th>creation_date</th>\n",
        "      <th>closed_date</th>\n",
        "      <th>latitude</th>\n",
        "      <th>longitude</th>\n",
        "      <th>request_type</th>\n",
        "    </tr>\n",
        "  </thead>\n",
        "  <tbody>\n",
        "    <tr>\n",
        "      <th>0 </th>\n",
        "      <td> 2012-12-31T00:00:00</td>\n",
        "      <td> 2013-01-07T00:00:00</td>\n",
        "      <td> 39.161671</td>\n",
        "      <td>-94.555411</td>\n",
        "      <td>       Sewer Water in Basement - Referral</td>\n",
        "    </tr>\n",
        "    <tr>\n",
        "      <th>1 </th>\n",
        "      <td> 2012-12-31T00:00:00</td>\n",
        "      <td> 2013-01-07T00:00:00</td>\n",
        "      <td> 38.983220</td>\n",
        "      <td>-94.597000</td>\n",
        "      <td>       Sewer Water in Basement - Referral</td>\n",
        "    </tr>\n",
        "    <tr>\n",
        "      <th>2 </th>\n",
        "      <td> 2012-12-31T00:00:00</td>\n",
        "      <td> 2012-12-31T00:00:00</td>\n",
        "      <td> 39.090021</td>\n",
        "      <td>-94.532311</td>\n",
        "      <td>                          Animal At Large</td>\n",
        "    </tr>\n",
        "    <tr>\n",
        "      <th>3 </th>\n",
        "      <td> 2012-12-31T00:00:00</td>\n",
        "      <td> 2013-01-09T00:00:00</td>\n",
        "      <td> 39.105870</td>\n",
        "      <td>-94.538611</td>\n",
        "      <td>            Food Establishment Complaints</td>\n",
        "    </tr>\n",
        "    <tr>\n",
        "      <th>4 </th>\n",
        "      <td> 2012-12-31T00:00:00</td>\n",
        "      <td> 2013-02-11T00:00:00</td>\n",
        "      <td> 39.078530</td>\n",
        "      <td>-94.525711</td>\n",
        "      <td>         Tree Stump Removal for City Tree</td>\n",
        "    </tr>\n",
        "    <tr>\n",
        "      <th>5 </th>\n",
        "      <td> 2012-12-31T00:00:00</td>\n",
        "      <td> 2013-01-11T00:00:00</td>\n",
        "      <td> 38.861110</td>\n",
        "      <td>-94.595271</td>\n",
        "      <td>               Water Main Repair Referral</td>\n",
        "    </tr>\n",
        "    <tr>\n",
        "      <th>6 </th>\n",
        "      <td> 2012-12-31T00:00:00</td>\n",
        "      <td> 2013-03-18T00:00:00</td>\n",
        "      <td> 39.003631</td>\n",
        "      <td>-94.546120</td>\n",
        "      <td>                      Property Violations</td>\n",
        "    </tr>\n",
        "    <tr>\n",
        "      <th>7 </th>\n",
        "      <td> 2012-12-31T00:00:00</td>\n",
        "      <td> 2013-01-01T00:00:00</td>\n",
        "      <td> 39.191801</td>\n",
        "      <td>-94.484631</td>\n",
        "      <td>                          Animal At Large</td>\n",
        "    </tr>\n",
        "    <tr>\n",
        "      <th>8 </th>\n",
        "      <td> 2012-12-31T00:00:00</td>\n",
        "      <td> 2012-12-31T00:00:00</td>\n",
        "      <td> 39.049364</td>\n",
        "      <td>-94.469924</td>\n",
        "      <td>           Water Leak or Pressure Problem</td>\n",
        "    </tr>\n",
        "    <tr>\n",
        "      <th>9 </th>\n",
        "      <td> 2012-12-31T00:00:00</td>\n",
        "      <td> 2012-12-31T00:00:00</td>\n",
        "      <td> 39.071760</td>\n",
        "      <td>-94.554710</td>\n",
        "      <td>             Solid Waste Customer Service</td>\n",
        "    </tr>\n",
        "    <tr>\n",
        "      <th>10</th>\n",
        "      <td> 2012-12-31T00:00:00</td>\n",
        "      <td> 2013-01-04T00:00:00</td>\n",
        "      <td> 39.263750</td>\n",
        "      <td>-94.571620</td>\n",
        "      <td>                        Abandoned Vehicle</td>\n",
        "    </tr>\n",
        "    <tr>\n",
        "      <th>11</th>\n",
        "      <td> 2012-12-31T00:00:00</td>\n",
        "      <td> 2013-01-02T00:00:00</td>\n",
        "      <td> 39.041271</td>\n",
        "      <td>-94.434621</td>\n",
        "      <td>         Trash Missed by Contractor South</td>\n",
        "    </tr>\n",
        "    <tr>\n",
        "      <th>12</th>\n",
        "      <td> 2012-12-31T00:00:00</td>\n",
        "      <td> 2013-01-02T00:00:00</td>\n",
        "      <td> 39.213660</td>\n",
        "      <td>-94.604471</td>\n",
        "      <td>                    Meter Leak or Problem</td>\n",
        "    </tr>\n",
        "    <tr>\n",
        "      <th>13</th>\n",
        "      <td> 2012-12-31T00:00:00</td>\n",
        "      <td> 2013-01-22T00:00:00</td>\n",
        "      <td> 39.008341</td>\n",
        "      <td>-94.571960</td>\n",
        "      <td>               Icing Caused by Water Leak</td>\n",
        "    </tr>\n",
        "    <tr>\n",
        "      <th>14</th>\n",
        "      <td> 2012-12-31T00:00:00</td>\n",
        "      <td> 2013-01-02T00:00:00</td>\n",
        "      <td> 39.023661</td>\n",
        "      <td>-94.438541</td>\n",
        "      <td> Trash Recycle Missed by Contractor South</td>\n",
        "    </tr>\n",
        "    <tr>\n",
        "      <th>15</th>\n",
        "      <td> 2012-12-31T00:00:00</td>\n",
        "      <td> 2013-01-02T00:00:00</td>\n",
        "      <td> 38.963666</td>\n",
        "      <td>-94.444820</td>\n",
        "      <td>         Trash Missed by Contractor South</td>\n",
        "    </tr>\n",
        "    <tr>\n",
        "      <th>16</th>\n",
        "      <td> 2012-12-31T00:00:00</td>\n",
        "      <td>                 NaN</td>\n",
        "      <td> 38.975281</td>\n",
        "      <td>-94.566300</td>\n",
        "      <td>           Water Leak or Pressure Problem</td>\n",
        "    </tr>\n",
        "    <tr>\n",
        "      <th>17</th>\n",
        "      <td> 2012-12-31T00:00:00</td>\n",
        "      <td> 2013-01-02T00:00:00</td>\n",
        "      <td> 39.038800</td>\n",
        "      <td>-94.439460</td>\n",
        "      <td> Trash Recycle Missed by Contractor South</td>\n",
        "    </tr>\n",
        "    <tr>\n",
        "      <th>18</th>\n",
        "      <td> 2012-12-31T00:00:00</td>\n",
        "      <td> 2013-01-02T00:00:00</td>\n",
        "      <td> 39.038800</td>\n",
        "      <td>-94.439460</td>\n",
        "      <td>         Trash Missed by Contractor South</td>\n",
        "    </tr>\n",
        "    <tr>\n",
        "      <th>19</th>\n",
        "      <td> 2012-12-31T00:00:00</td>\n",
        "      <td> 2013-01-07T00:00:00</td>\n",
        "      <td> 39.077820</td>\n",
        "      <td>-94.525741</td>\n",
        "      <td>    Catch Basins and Storm Water Concerns</td>\n",
        "    </tr>\n",
        "  </tbody>\n",
        "</table>\n",
        "</div>"
       ],
       "metadata": {},
       "output_type": "pyout",
       "prompt_number": 4,
       "text": [
        "          creation_date          closed_date   latitude  longitude  \\\n",
        "0   2012-12-31T00:00:00  2013-01-07T00:00:00  39.161671 -94.555411   \n",
        "1   2012-12-31T00:00:00  2013-01-07T00:00:00  38.983220 -94.597000   \n",
        "2   2012-12-31T00:00:00  2012-12-31T00:00:00  39.090021 -94.532311   \n",
        "3   2012-12-31T00:00:00  2013-01-09T00:00:00  39.105870 -94.538611   \n",
        "4   2012-12-31T00:00:00  2013-02-11T00:00:00  39.078530 -94.525711   \n",
        "5   2012-12-31T00:00:00  2013-01-11T00:00:00  38.861110 -94.595271   \n",
        "6   2012-12-31T00:00:00  2013-03-18T00:00:00  39.003631 -94.546120   \n",
        "7   2012-12-31T00:00:00  2013-01-01T00:00:00  39.191801 -94.484631   \n",
        "8   2012-12-31T00:00:00  2012-12-31T00:00:00  39.049364 -94.469924   \n",
        "9   2012-12-31T00:00:00  2012-12-31T00:00:00  39.071760 -94.554710   \n",
        "10  2012-12-31T00:00:00  2013-01-04T00:00:00  39.263750 -94.571620   \n",
        "11  2012-12-31T00:00:00  2013-01-02T00:00:00  39.041271 -94.434621   \n",
        "12  2012-12-31T00:00:00  2013-01-02T00:00:00  39.213660 -94.604471   \n",
        "13  2012-12-31T00:00:00  2013-01-22T00:00:00  39.008341 -94.571960   \n",
        "14  2012-12-31T00:00:00  2013-01-02T00:00:00  39.023661 -94.438541   \n",
        "15  2012-12-31T00:00:00  2013-01-02T00:00:00  38.963666 -94.444820   \n",
        "16  2012-12-31T00:00:00                  NaN  38.975281 -94.566300   \n",
        "17  2012-12-31T00:00:00  2013-01-02T00:00:00  39.038800 -94.439460   \n",
        "18  2012-12-31T00:00:00  2013-01-02T00:00:00  39.038800 -94.439460   \n",
        "19  2012-12-31T00:00:00  2013-01-07T00:00:00  39.077820 -94.525741   \n",
        "\n",
        "                                request_type  \n",
        "0         Sewer Water in Basement - Referral  \n",
        "1         Sewer Water in Basement - Referral  \n",
        "2                            Animal At Large  \n",
        "3              Food Establishment Complaints  \n",
        "4           Tree Stump Removal for City Tree  \n",
        "5                 Water Main Repair Referral  \n",
        "6                        Property Violations  \n",
        "7                            Animal At Large  \n",
        "8             Water Leak or Pressure Problem  \n",
        "9               Solid Waste Customer Service  \n",
        "10                         Abandoned Vehicle  \n",
        "11          Trash Missed by Contractor South  \n",
        "12                     Meter Leak or Problem  \n",
        "13                Icing Caused by Water Leak  \n",
        "14  Trash Recycle Missed by Contractor South  \n",
        "15          Trash Missed by Contractor South  \n",
        "16            Water Leak or Pressure Problem  \n",
        "17  Trash Recycle Missed by Contractor South  \n",
        "18          Trash Missed by Contractor South  \n",
        "19     Catch Basins and Storm Water Concerns  "
       ]
      }
     ],
     "prompt_number": 4
    },
    {
     "cell_type": "code",
     "collapsed": false,
     "input": [
      "d2.closed_date[0] - d2.closed_date[1]               "
     ],
     "language": "python",
     "metadata": {},
     "outputs": [
      {
       "ename": "TypeError",
       "evalue": "unsupported operand type(s) for -: 'str' and 'str'",
       "output_type": "pyerr",
       "traceback": [
        "\u001b[1;31m---------------------------------------------------------------------------\u001b[0m\n\u001b[1;31mTypeError\u001b[0m                                 Traceback (most recent call last)",
        "\u001b[1;32m<ipython-input-5-aa4f23ebc4b9>\u001b[0m in \u001b[0;36m<module>\u001b[1;34m()\u001b[0m\n\u001b[1;32m----> 1\u001b[1;33m \u001b[0md2\u001b[0m\u001b[1;33m.\u001b[0m\u001b[0mclosed_date\u001b[0m\u001b[1;33m[\u001b[0m\u001b[1;36m0\u001b[0m\u001b[1;33m]\u001b[0m \u001b[1;33m-\u001b[0m \u001b[0md2\u001b[0m\u001b[1;33m.\u001b[0m\u001b[0mclosed_date\u001b[0m\u001b[1;33m[\u001b[0m\u001b[1;36m1\u001b[0m\u001b[1;33m]\u001b[0m\u001b[1;33m\u001b[0m\u001b[0m\n\u001b[0m",
        "\u001b[1;31mTypeError\u001b[0m: unsupported operand type(s) for -: 'str' and 'str'"
       ]
      }
     ],
     "prompt_number": 5
    },
    {
     "cell_type": "code",
     "collapsed": false,
     "input": [
      "d.columns"
     ],
     "language": "python",
     "metadata": {},
     "outputs": [
      {
       "metadata": {},
       "output_type": "pyout",
       "prompt_number": 6,
       "text": [
        "Index([u'Unnamed: 0', u'address_with_geocode', u'case_id', u'closed_date', u'closed_month', u'closed_year', u'council_district', u'creation_date', u'creation_month', u'creation_year', u'customer_service', u'days_to_close', u'department', u'exceeded_est_timeframe', u'latitude', u'longitude', u'neighborhood', u'parcel_id_no', u'quality_of_service', u'request_type', u'source', u'status', u'street_address', u'timeliness_of_service', u'work_group', u'xcoordinate', u'ycoordinate', u'zip_code'], dtype='object')"
       ]
      }
     ],
     "prompt_number": 6
    },
    {
     "cell_type": "code",
     "collapsed": false,
     "input": [
      "#d.request_type.str.contains(\"Water\")"
     ],
     "language": "python",
     "metadata": {},
     "outputs": [],
     "prompt_number": 7
    },
    {
     "cell_type": "code",
     "collapsed": false,
     "input": [
      "d.request_type.value_counts()[0:10]"
     ],
     "language": "python",
     "metadata": {},
     "outputs": [
      {
       "metadata": {},
       "output_type": "pyout",
       "prompt_number": 8,
       "text": [
        "Property Violations                 94629\n",
        "Nuisance Violations                 41397\n",
        "Animal Control                      34638\n",
        "Water Leak or Pressure Problem      29815\n",
        "Dead Animal Pick-up                 25345\n",
        "Solid Waste Customer Service        21043\n",
        "Abandoned Vehicle                   17208\n",
        "Trash - Missed by City              16902\n",
        "Meter Leak or Problem               15762\n",
        "Property and Nuisance Violations    15728\n",
        "dtype: int64"
       ]
      }
     ],
     "prompt_number": 8
    },
    {
     "cell_type": "raw",
     "metadata": {},
     "source": [
      "^10 highest 311 call types^"
     ]
    },
    {
     "cell_type": "code",
     "collapsed": false,
     "input": [
      "#-1 is the value that find returns if it doesn't find the string\n",
      "\n",
      "data = pd.DataFrame\n",
      "i = 0\n",
      "for index, row in d2.iterrows():\n",
      "     if(\\\n",
      "       ( row['request_type'].find('Water') != -1 ) and\\\n",
      "       ( row['longitude']  !=0 ) and\\\n",
      "       ( row['latitude' ]  !=0 ) ):            \n",
      "            row_frame = pd.DataFrame([{'creation_date':row.creation_date, 'closed_date': row.closed_date, 'longitude':row.longitude, 'latitude':row.latitude}])\n",
      "            if i == 0: \n",
      "                data = row_frame\n",
      "                i+=1\n",
      "            else: \n",
      "                data = data.append(row_frame)"
     ],
     "language": "python",
     "metadata": {},
     "outputs": [],
     "prompt_number": 9
    },
    {
     "cell_type": "code",
     "collapsed": false,
     "input": [
      "data"
     ],
     "language": "python",
     "metadata": {},
     "outputs": [
      {
       "html": [
        "<div style=\"max-height:1000px;max-width:1500px;overflow:auto;\">\n",
        "<table border=\"1\" class=\"dataframe\">\n",
        "  <thead>\n",
        "    <tr style=\"text-align: right;\">\n",
        "      <th></th>\n",
        "      <th>closed_date</th>\n",
        "      <th>creation_date</th>\n",
        "      <th>latitude</th>\n",
        "      <th>longitude</th>\n",
        "    </tr>\n",
        "  </thead>\n",
        "  <tbody>\n",
        "    <tr>\n",
        "      <th>0</th>\n",
        "      <td> 2013-01-07T00:00:00</td>\n",
        "      <td> 2012-12-31T00:00:00</td>\n",
        "      <td> 39.161671</td>\n",
        "      <td>-94.555411</td>\n",
        "    </tr>\n",
        "    <tr>\n",
        "      <th>0</th>\n",
        "      <td> 2013-01-07T00:00:00</td>\n",
        "      <td> 2012-12-31T00:00:00</td>\n",
        "      <td> 38.983220</td>\n",
        "      <td>-94.597000</td>\n",
        "    </tr>\n",
        "    <tr>\n",
        "      <th>0</th>\n",
        "      <td> 2013-01-11T00:00:00</td>\n",
        "      <td> 2012-12-31T00:00:00</td>\n",
        "      <td> 38.861110</td>\n",
        "      <td>-94.595271</td>\n",
        "    </tr>\n",
        "    <tr>\n",
        "      <th>0</th>\n",
        "      <td> 2012-12-31T00:00:00</td>\n",
        "      <td> 2012-12-31T00:00:00</td>\n",
        "      <td> 39.049364</td>\n",
        "      <td>-94.469924</td>\n",
        "    </tr>\n",
        "    <tr>\n",
        "      <th>0</th>\n",
        "      <td> 2013-01-22T00:00:00</td>\n",
        "      <td> 2012-12-31T00:00:00</td>\n",
        "      <td> 39.008341</td>\n",
        "      <td>-94.571960</td>\n",
        "    </tr>\n",
        "    <tr>\n",
        "      <th>0</th>\n",
        "      <td>                 NaN</td>\n",
        "      <td> 2012-12-31T00:00:00</td>\n",
        "      <td> 38.975281</td>\n",
        "      <td>-94.566300</td>\n",
        "    </tr>\n",
        "    <tr>\n",
        "      <th>0</th>\n",
        "      <td> 2013-01-07T00:00:00</td>\n",
        "      <td> 2012-12-31T00:00:00</td>\n",
        "      <td> 39.077820</td>\n",
        "      <td>-94.525741</td>\n",
        "    </tr>\n",
        "  </tbody>\n",
        "</table>\n",
        "</div>"
       ],
       "metadata": {},
       "output_type": "pyout",
       "prompt_number": 10,
       "text": [
        "           closed_date        creation_date   latitude  longitude\n",
        "0  2013-01-07T00:00:00  2012-12-31T00:00:00  39.161671 -94.555411\n",
        "0  2013-01-07T00:00:00  2012-12-31T00:00:00  38.983220 -94.597000\n",
        "0  2013-01-11T00:00:00  2012-12-31T00:00:00  38.861110 -94.595271\n",
        "0  2012-12-31T00:00:00  2012-12-31T00:00:00  39.049364 -94.469924\n",
        "0  2013-01-22T00:00:00  2012-12-31T00:00:00  39.008341 -94.571960\n",
        "0                  NaN  2012-12-31T00:00:00  38.975281 -94.566300\n",
        "0  2013-01-07T00:00:00  2012-12-31T00:00:00  39.077820 -94.525741"
       ]
      }
     ],
     "prompt_number": 10
    },
    {
     "cell_type": "raw",
     "metadata": {},
     "source": [
      "HEATMAP from http://matplotlib.org/basemap/users/examples.html"
     ]
    },
    {
     "cell_type": "code",
     "collapsed": false,
     "input": [
      "d2 = pd.DataFrame(d,index=range(0,20))\n",
      "d2 = pd.DataFrame(d2,columns=['creation_date', 'closed_date', 'latitude', 'longitude', 'request_type'])"
     ],
     "language": "python",
     "metadata": {},
     "outputs": [],
     "prompt_number": 38
    },
    {
     "cell_type": "code",
     "collapsed": false,
     "input": [
      "from mpl_toolkits.basemap import Basemap\n",
      "import matplotlib.pyplot as plt\n",
      "import numpy as np\n",
      " \n",
      "# make sure the value of resolution is a lowercase L,\n",
      "#  for 'low', not a numeral 1\n",
      "map = Basemap(projection='merc', lat_0=39, lon_0=-94,\n",
      "    resolution = 'l', area_thresh = 3000.0,\n",
      "    llcrnrlon=-95, llcrnrlat=38,\n",
      "    urcrnrlon=-93, urcrnrlat=40)\n",
      " \n",
      "map.drawcounties()\n",
      "map.drawstates()\n",
      "\n",
      "lons = d2.longitude.values\n",
      "lats = d2.latitude.values\n",
      "x,y = map(lons, lats)\n",
      "map.plot(x, y, 'bo', markersize=1)\n",
      " \n",
      "plt.show()"
     ],
     "language": "python",
     "metadata": {},
     "outputs": [
      {
       "metadata": {},
       "output_type": "display_data",
       "png": "[encoded data removed]",
       "text": [
        "<matplotlib.figure.Figure at 0x10dfb06c>"
       ]
      }
     ],
     "prompt_number": 58
    },
    {
     "cell_type": "code",
     "collapsed": false,
     "input": [
      "d2.latitude[1], d2.longitude[1]"
     ],
     "language": "python",
     "metadata": {},
     "outputs": [
      {
       "metadata": {},
       "output_type": "pyout",
       "prompt_number": 47,
       "text": [
        "(38.983220153000445, -94.597000270999686)"
       ]
      }
     ],
     "prompt_number": 47
    }
   ],
   "metadata": {}
  }
 ]
}