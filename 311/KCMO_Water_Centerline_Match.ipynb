{
 "metadata": {
  "name": ""
 },
 "nbformat": 3,
 "nbformat_minor": 0,
 "worksheets": [
  {
   "cells": [
    {
     "cell_type": "code",
     "collapsed": false,
     "input": [
      "# This workbook takes data from the centerlines shapefiles and matches a street segment back to 311\n",
      "# water calls. The purpose of this is to give us a dependent/target variable to predict (e.g. how long \n",
      "# until a street segment has a failure or what is the likelihood of a failure in a given week).\n",
      "\n",
      "import pandas as pd\n",
      "import numpy as np\n",
      "\n",
      "# Pull in 311 data set\n",
      "recs = pd.read_csv('/users/mhabiger/Desktop/KCMO Hackathon/Matt/311data')\n",
      "\n",
      "# Pull in centerfile dataset\n",
      "centers = pd.read_csv('/users/mhabiger/Desktop/KCMO Hackathon/Common/street_centerlines')\n",
      "\n",
      "# Adjust output display\n",
      "pd.set_option('display.height', 10)\n",
      "pd.set_option('display.max_rows', 600)\n",
      "pd.set_option('display.max_columns', 600)\n",
      "pd.set_option('display.width', 1000)"
     ],
     "language": "python",
     "metadata": {},
     "outputs": [],
     "prompt_number": 149
    },
    {
     "cell_type": "code",
     "collapsed": false,
     "input": [
      "# Need to parse the street address in 311 data into address parts (or we could try some sort of string matching...\n",
      "# I opted for simplier heuristics). These are the rules I came up with.\n",
      "\n",
      "num = []\n",
      "direct = []\n",
      "name = []\n",
      "type_ = []\n",
      "for rec in recs.street_address.str.split():\n",
      "    try:\n",
      "        if len(rec)==2:\n",
      "            num.append(rec[0])\n",
      "            direct.append(None)\n",
      "            name.append(rec[1])\n",
      "            type_.append(None)\n",
      "        elif len(rec)==3 and len(rec[1])<4:\n",
      "            num.append(rec[0])\n",
      "            direct.append(rec[1])\n",
      "            name.append(rec[2])\n",
      "            type_.append(None)  \n",
      "        elif len(rec)==3 and len(rec[1])>=4:\n",
      "            num.append(rec[0])\n",
      "            direct.append(None)\n",
      "            name.append(rec[1])\n",
      "            type_.append(rec[2])    \n",
      "        elif len(rec)==4 and len(rec[1])>=4:\n",
      "            num.append(rec[0])\n",
      "            direct.append(None)\n",
      "            name.append(rec[1]+' '+rec[2])\n",
      "            type_.append(rec[3])\n",
      "        elif len(rec)==4 and len(rec[1])<4:\n",
      "            num.append(rec[0])\n",
      "            direct.append(rec[1])\n",
      "            name.append(rec[2])\n",
      "            type_.append(rec[3])\n",
      "        else:\n",
      "            num.append(rec[0])\n",
      "            direct.append(rec[1])\n",
      "            name.append(rec[2]+' '+rec[3])\n",
      "            type_.append(rec[4])\n",
      "    except:\n",
      "        num.append(None)\n",
      "        direct.append(None)\n",
      "        name.append(None)\n",
      "        type_.append(None)"
     ],
     "language": "python",
     "metadata": {},
     "outputs": [],
     "prompt_number": 150
    },
    {
     "cell_type": "code",
     "collapsed": false,
     "input": [
      "# Adding the new street variables to recs dataset\n",
      "recs['num'] = pd.Series(num)\n",
      "recs['direct'] = pd.Series(direct)\n",
      "recs['name'] = pd.Series(name)\n",
      "recs['type'] = pd.Series(type_)"
     ],
     "language": "python",
     "metadata": {},
     "outputs": [],
     "prompt_number": 151
    },
    {
     "cell_type": "code",
     "collapsed": false,
     "input": [
      "# Now we need to match a centerline record to the water records. This code runs through the matching\n",
      "# process in parallel. Again, I set up simple hueristics for matches. For example, the best match is \n",
      "# on that yields street, street direction, street name and street type matches. The result is a list of\n",
      "# pairs identifying the match and unique cart id from the centerline file. This is probably really \n",
      "# inefficient and ran for 2.5hrs on my overworked Mac.\n",
      "\n",
      "from joblib import Parallel, delayed\n",
      "import time\n",
      "\n",
      "def match(rec,cent):\n",
      "    res = (0,None)\n",
      "    for ce in cent.itertuples(index=False):\n",
      "        low = min(ce[1],ce[3])\n",
      "        high = max(ce[2],ce[4])\n",
      "        try:\n",
      "            num = float(rec[0])\n",
      "        except:\n",
      "            num = 0\n",
      "        a = low <= num <= high\n",
      "        b = str(rec[1]).upper()==str(ce[5]).upper()\n",
      "        c = str(rec[2]).upper()==str(ce[6]).upper()\n",
      "        d = str(rec[3]).upper()==str(ce[7]).upper()\n",
      "        e = str(rec[3]).upper()==str(ce[8]).upper()\n",
      "        if not a and not c:\n",
      "            pass\n",
      "        elif a and b and c and d:\n",
      "            res = (1,ce[0])\n",
      "            break\n",
      "        elif a and b and c and e:\n",
      "            res = (2,ce[0])\n",
      "            break\n",
      "        elif a and c and d:\n",
      "            res = (3,ce[0])\n",
      "            break\n",
      "        elif a and c and e:\n",
      "            res = (4,ce[0])\n",
      "            break\n",
      "        else:\n",
      "            pass\n",
      "    return res\n",
      "        \n",
      "\n",
      "if __name__ == '__main__':\n",
      "    cent = centers[['CART_ID','L_F_ADD','L_T_ADD','R_F_ADD','R_T_ADD','PREFIX','STREETNAME','STREETTYPE','SUFFIX']]\n",
      "    res = recs[recs.request_type.str.contains('Water')==True][['num','direct','name','type']]\n",
      "    a = time.time()\n",
      "    matches = Parallel(n_jobs=-1) (delayed(match) (rec, cent) for rec in res.itertuples(index=False) )                                          \n",
      "    print time.time()-a\n",
      "                                                   "
     ],
     "language": "python",
     "metadata": {},
     "outputs": [
      {
       "output_type": "stream",
       "stream": "stdout",
       "text": [
        "11708.38503\n"
       ]
      }
     ],
     "prompt_number": 21
    },
    {
     "cell_type": "code",
     "collapsed": false,
     "input": [
      "# Joining res (water calls) and centerline matches together (on index). \n",
      "recs = recs[recs.request_type.str.contains('Water')==True].reset_index()\n",
      "recs = recs.merge(pd.DataFrame(matches, columns=['cent_match','cart_id']),left_index=True, right_index=True)"
     ],
     "language": "python",
     "metadata": {},
     "outputs": [],
     "prompt_number": 152
    },
    {
     "cell_type": "code",
     "collapsed": false,
     "input": [
      "# Looking at the match rate\n",
      "recs.cent_match.value_counts()"
     ],
     "language": "python",
     "metadata": {},
     "outputs": [
      {
       "metadata": {},
       "output_type": "pyout",
       "prompt_number": 144,
       "text": [
        "3    32570\n",
        "0    22241\n",
        "1    10934\n",
        "dtype: int64"
       ]
      }
     ],
     "prompt_number": 144
    },
    {
     "cell_type": "code",
     "collapsed": false,
     "input": [
      "from joblib import Parallel, delayed\n",
      "import time\n",
      "## http://geomalgorithms.com/a02-_lines.html \n",
      "def dist(v,w):\n",
      "    c = v-w\n",
      "    return np.sqrt(np.dot(c,c))\n",
      "\n",
      "def pt_2_ln(point,lnpt1, lnpt2):\n",
      "    '''Calculates the distance between a given point and a line segment.\n",
      "    Expects to receive 3 pairs of tuples.'''\n",
      "    import numpy as np\n",
      "    point = np.array(point)\n",
      "    lnpt1 = np.array(lnpt1)\n",
      "    lnpt2 = np.array(lnpt2)\n",
      "    v1 = lnpt2-lnpt1\n",
      "    v2 = point - lnpt1\n",
      "    c1 = np.dot(v2,v1)\n",
      "    if c1<=0:\n",
      "        return dist(point,lnpt1)\n",
      "    c2 =np.dot(v1,v1)\n",
      "    if c2<=c1:\n",
      "        return dist(point,lnpt2)\n",
      "    b = c1/c2\n",
      "    pb = lnpt1 + (b * v1)\n",
      "    return dist(point,pb)\n",
      " \n",
      "def nearest_line(point,lines):\n",
      "    '''Takes point and vector of point tuples for lines, (id,x1,y1,x2,y2), and returns nearest line'''\n",
      "    min_dist = 50000000\n",
      "    record = None\n",
      "    for line in lines.itertuples(index=False):\n",
      "        dist = pt_2_ln(point[1:], (line[1],line[2]),(line[3],line[4]))\n",
      "        if dist<min_dist:\n",
      "            min_dist=dist\n",
      "            record = line[0]\n",
      "    return (point[0],record,min_dist)\n",
      "\n",
      "if __name__ == '__main__':\n",
      "    cords = centers[['CART_ID','x1','y1','x2','y2']]\n",
      "    a = time.time()\n",
      "    matches1 = Parallel(n_jobs=-1) (delayed(nearest_line) (rec, cords) for rec in recs[['xcoordinate','ycoordinate']][recs.cent_match==0].itertuples() )                                          \n",
      "    print time.time()-a\n",
      "        \n",
      "    "
     ],
     "language": "python",
     "metadata": {},
     "outputs": [
      {
       "output_type": "stream",
       "stream": "stdout",
       "text": [
        "16095.468884\n"
       ]
      }
     ],
     "prompt_number": 28
    },
    {
     "cell_type": "code",
     "collapsed": false,
     "input": [
      "## Turning matches into a dataframe\n",
      "matches1 = pd.DataFrame(matches1,columns=['rec_index','CART_ID','dist'])\n",
      "## Resetting the index, this allows pandas to automagically replace values based on index\n",
      "matches1.index = matches1.rec_index\n",
      "recs.cart_id[recs.cent_match==0] = matches1.CART_ID\n",
      "recs['dist'] = matches1.dist"
     ],
     "language": "python",
     "metadata": {},
     "outputs": [],
     "prompt_number": 167
    },
    {
     "cell_type": "code",
     "collapsed": false,
     "input": [
      "recs.cart_id[recs.dist>=recs.dist.quantile(q=.95)] = None\n"
     ],
     "language": "python",
     "metadata": {},
     "outputs": [],
     "prompt_number": 174
    },
    {
     "cell_type": "code",
     "collapsed": false,
     "input": [
      "print centers[(centers.STATE_LT==29)&(centers.STATE_RT==29)].SHAPE_Leng.mean()\n",
      "print centers[(centers.STATE_LT==29)&(centers.STATE_RT==29)].SHAPE_Leng.median()\n",
      "print min(centers[(centers.STATE_LT==29)&(centers.STATE_RT==29)].x1.min(),centers[(centers.STATE_LT==29)&(centers.STATE_RT==29)].x2.min()) \n",
      "print max(centers[(centers.STATE_LT==29)&(centers.STATE_RT==29)].x1.max(),centers[(centers.STATE_LT==29)&(centers.STATE_RT==29)].x2.max()) \n",
      "print min(centers[(centers.STATE_LT==29)&(centers.STATE_RT==29)].y1.min(),centers[(centers.STATE_LT==29)&(centers.STATE_RT==29)].y2.min()) \n",
      "print max(centers[(centers.STATE_LT==29)&(centers.STATE_RT==29)].y1.max(),centers[(centers.STATE_LT==29)&(centers.STATE_RT==29)]d.y2.max()) \n"
     ],
     "language": "python",
     "metadata": {},
     "outputs": [
      {
       "output_type": "stream",
       "stream": "stdout",
       "text": [
        "504.58713855\n",
        "338.453273707\n",
        "2713525.14"
       ]
      },
      {
       "output_type": "stream",
       "stream": "stdout",
       "text": [
        "\n",
        "2822141.73"
       ]
      },
      {
       "output_type": "stream",
       "stream": "stdout",
       "text": [
        "\n",
        "965798.520834"
       ]
      },
      {
       "output_type": "stream",
       "stream": "stdout",
       "text": [
        "\n",
        "1166034.07"
       ]
      },
      {
       "output_type": "stream",
       "stream": "stdout",
       "text": [
        "\n"
       ]
      }
     ],
     "prompt_number": 79
    },
    {
     "cell_type": "code",
     "collapsed": false,
     "input": [
      "recs.cart_id.nunique()"
     ],
     "language": "python",
     "metadata": {},
     "outputs": [
      {
       "metadata": {},
       "output_type": "pyout",
       "prompt_number": 176,
       "text": [
        "15935"
       ]
      }
     ],
     "prompt_number": 176
    },
    {
     "cell_type": "code",
     "collapsed": false,
     "input": [
      "recs[recs.dist<=recs.dist.quantile(q=.95)].dist.describe()"
     ],
     "language": "python",
     "metadata": {},
     "outputs": [
      {
       "metadata": {},
       "output_type": "pyout",
       "prompt_number": 119,
       "text": [
        "count    21129.000000\n",
        "mean       130.308928\n",
        "std         91.699063\n",
        "min          0.013976\n",
        "25%         80.499910\n",
        "50%         96.835407\n",
        "75%        146.781267\n",
        "max        631.687588\n",
        "Name: dist, dtype: float64"
       ]
      }
     ],
     "prompt_number": 119
    },
    {
     "cell_type": "code",
     "collapsed": false,
     "input": [
      "recs[recs.dist<=recs.dist.quantile(q=.95)].dist.hist()"
     ],
     "language": "python",
     "metadata": {},
     "outputs": [
      {
       "metadata": {},
       "output_type": "pyout",
       "prompt_number": 120,
       "text": [
        "<matplotlib.axes.AxesSubplot at 0x120b83190>"
       ]
      },
      {
       "metadata": {},
       "output_type": "display_data",
       "png": "[encoded data removed]",
       "text": [
        "<matplotlib.figure.Figure at 0x119cb9150>"
       ]
      }
     ],
     "prompt_number": 120
    },
    {
     "cell_type": "code",
     "collapsed": false,
     "input": [
      "dat = recs.merge(centers,left_on='cart_id', right_on='CART_ID', suffixes=('','_cent'))"
     ],
     "language": "python",
     "metadata": {},
     "outputs": [],
     "prompt_number": 178
    },
    {
     "cell_type": "code",
     "collapsed": false,
     "input": [
      "dat.to_csv('/users/mhabiger/Desktop/KCMO Hackathon/Common/311_to_street.csv',index=False)"
     ],
     "language": "python",
     "metadata": {},
     "outputs": [],
     "prompt_number": 180
    },
    {
     "cell_type": "code",
     "collapsed": false,
     "input": [
      "# Total pain in the ass! \n",
      "# http://gis.stackexchange.com/questions/10209/converting-x-y-coordinates-to-lat-long-using-pyproj-and-proj-4-returns-the-wrong\n",
      "# http://spatialreference.org/ref/esri/102698/\n",
      "# https://code.google.com/p/pyproj/\n",
      "\n",
      "import pyproj\n",
      "# Plane projection that is used in the shapefiles and converting from meters\n",
      "p1 = pyproj.Proj(r'+proj=tmerc +lat_0=36.16666666666666 +lon_0=-94.5 +k=0.9999411764705882 +x_0=850000 +y_0=0 +ellps=GRS80 +datum=NAD83 +to_meter=0.3048006096012192 +no_defs')\n",
      "conv = 0.3048006096012192\n",
      "longitude, latitude = p1(recs.xcoordinate.values*conv, recs.ycoordinate.values*conv,inverse=True)\n"
     ],
     "language": "python",
     "metadata": {},
     "outputs": [],
     "prompt_number": 74
    },
    {
     "cell_type": "code",
     "collapsed": false,
     "input": [
      "p1(2713525.14*conv,965798.520834*conv,inverse=True)\n",
      "#print latitude, longitude"
     ],
     "language": "python",
     "metadata": {},
     "outputs": [
      {
       "metadata": {},
       "output_type": "pyout",
       "prompt_number": 75,
       "text": [
        "(-94.7638808330074, 38.81887220268359)"
       ]
      }
     ],
     "prompt_number": 75
    },
    {
     "cell_type": "code",
     "collapsed": false,
     "input": [
      "# Want to format data for heatmap\n",
      "recs['yrmth']=recs.creation_year*100+recs.creation_month\n",
      "recs.sort(columns=['yrmth'],inplace=True)\n",
      "recs['weight'] =1\n",
      "#longitude, latitude = p1(recs.xcoordinate.values*conv, recs.ycoordinate.values*conv,inverse=True)\n",
      "#data = zip(latitude, longitude, [1]*len(longitude),recs['yrmth'].values)\n",
      "data = recs[['latitude','longitude','weight']].fillna(0).groupby(recs.yrmth).apply(lambda x: x.values.tolist())"
     ],
     "language": "python",
     "metadata": {},
     "outputs": []
    },
    {
     "cell_type": "code",
     "collapsed": false,
     "input": [
      "# Writing data out to list of lists for Javascript heatmap\n",
      "m = []\n",
      "for i, j in data.iteritems():\n",
      "    m.append([i,j])\n",
      "    \n"
     ],
     "language": "python",
     "metadata": {},
     "outputs": []
    },
    {
     "cell_type": "code",
     "collapsed": false,
     "input": [
      "m"
     ],
     "language": "python",
     "metadata": {},
     "outputs": []
    }
   ],
   "metadata": {}
  }
 ]
}