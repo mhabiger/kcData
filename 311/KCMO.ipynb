{
 "metadata": {
  "name": ""
 },
 "nbformat": 3,
 "nbformat_minor": 0,
 "worksheets": [
  {
   "cells": [
    {
     "cell_type": "code",
     "collapsed": false,
     "input": [
      "## Pull 311 data via api\n",
      "## Paging through 1000 recs at a time (api limit)\n",
      "import requests\n",
      "i =0\n",
      "data=[]\n",
      "page = 0\n",
      "while i==0:\n",
      "    url = 'http://data.kcmo.org/resource/7at3-sxhp.json?$offset=%s&$$app_token=HNojYXMCM5NxAGZT0BX9wFH1t' % page\n",
      "    dat = requests.get(url)\n",
      "    data = data+dat.json()\n",
      "    if len(dat.json())>0:\n",
      "        page = page + 1000\n",
      "    else:\n",
      "        i=1"
     ],
     "language": "python",
     "metadata": {},
     "outputs": []
    },
    {
     "cell_type": "code",
     "collapsed": false,
     "input": [
      "## Extracting the latitude and longitude\n",
      "\n",
      "for n,i in enumerate(data):\n",
      "    try:\n",
      "        if i['address_with_geocode']['needs_recoding']==True:\n",
      "            data[n]['latitude']= None \n",
      "            data[n]['longitude']= None   \n",
      "        else:\n",
      "            data[n]['latitude']=float(i['address_with_geocode']['latitude'])\n",
      "            data[n]['longitude']=float(i['address_with_geocode']['longitude'])\n",
      "    except:\n",
      "        data[n]['latitude']= None \n",
      "        data[n]['longitude']= None "
     ],
     "language": "python",
     "metadata": {},
     "outputs": []
    },
    {
     "cell_type": "code",
     "collapsed": false,
     "input": [
      "# Importing data and creating dataframe from api data\n",
      "import pandas as pd\n",
      "d = pd.DataFrame(data)\n",
      "pd.set_option('display.height', 10)\n",
      "pd.set_option('display.max_rows', 600)\n",
      "pd.set_option('display.max_columns', 600)\n",
      "pd.set_option('display.width', 1000)"
     ],
     "language": "python",
     "metadata": {},
     "outputs": []
    },
    {
     "cell_type": "code",
     "collapsed": false,
     "input": [
      "# Writing data to csv\n",
      "#d.to_csv('/users/mhabiger/Desktop/KCMO Hackathon/Matt/311data')"
     ],
     "language": "python",
     "metadata": {},
     "outputs": []
    },
    {
     "cell_type": "code",
     "collapsed": false,
     "input": [
      "# Crosstab by request_type\n",
      "pd.crosstab(d.request_type,d.creation_year)"
     ],
     "language": "python",
     "metadata": {},
     "outputs": []
    },
    {
     "cell_type": "code",
     "collapsed": false,
     "input": [
      "## Plotting lat & long...not exactly informative...was trying to color dots by year to visualize time to event\n",
      "#%inline matplotlib\n",
      "#import matplotlib.pylab as plt\n",
      "#import mpld3\n",
      "#mpld3.enable_notebook()\n",
      "#plt.figure(figsize=(30,30))\n",
      "plt.scatter(recs['longitude'][(d.request_type.str.contains('Water')==True)&(d['longitude']!=0)], d['latitude'][(d.request_type.str.contains('Water')==True) & (d['longitude']!=0)],s=5, c=(d.creation_year[(d.request_type.str.contains('Water')==True) & (d['longitude']!=0)].astype(float)-2007)/7,cmap=plt.cm.RdBu,lw=0)\n",
      "plt.show()\n"
     ],
     "language": "python",
     "metadata": {},
     "outputs": []
    },
    {
     "cell_type": "code",
     "collapsed": false,
     "input": [
      "## Creating timeseries of water calls\n",
      "ts = d[(d.request_type.str.contains('Water')==True)&(d['xcoordinate']!='0')].request_type.groupby(pd.to_datetime(d[(d.request_type.str.contains('Water')==True)&(d['xcoordinate']!='0')].creation_date.str.slice(stop=10))).count()\n"
     ],
     "language": "python",
     "metadata": {},
     "outputs": []
    },
    {
     "cell_type": "code",
     "collapsed": false,
     "input": [
      "ts.plot(figsize=(20,10))"
     ],
     "language": "python",
     "metadata": {},
     "outputs": []
    },
    {
     "cell_type": "code",
     "collapsed": false,
     "input": [
      "## Plotting monthly calls\n",
      "ts.groupby([ts.index.year,ts.index.month]).sum().plot(figsize=(20,10))"
     ],
     "language": "python",
     "metadata": {},
     "outputs": []
    },
    {
     "cell_type": "code",
     "collapsed": false,
     "input": [
      "# Using GDAL 1.11 installed from kyngchaos with FileGDB plugin and arcgis api\n",
      "# converted centerlines gdb file to shapefile using following command\n",
      "#  ./ogr2ogr -f \"ESRI Shapefile\" /users/mhabiger/Desktop/KCMO\\ Hackathon/Common/centerlines \"/users/mhabiger/Downloads/Centerline.gdb\"\n",
      "import shapefile\n",
      "sf = shapefile.Reader('/Users/mhabiger/Desktop/KCMO Hackathon/Common/centerlines/Centerline.shp')\n"
     ],
     "language": "python",
     "metadata": {},
     "outputs": []
    },
    {
     "cell_type": "code",
     "collapsed": false,
     "input": [
      "sf.fields"
     ],
     "language": "python",
     "metadata": {},
     "outputs": []
    },
    {
     "cell_type": "code",
     "collapsed": false,
     "input": [
      "sf.numRecords"
     ],
     "language": "python",
     "metadata": {},
     "outputs": []
    },
    {
     "cell_type": "code",
     "collapsed": false,
     "input": [
      "## Error in pyshp module...switching modules\n",
      "s.shapeRecord()"
     ],
     "language": "python",
     "metadata": {},
     "outputs": []
    },
    {
     "cell_type": "code",
     "collapsed": false,
     "input": [
      "import fiona\n",
      "c = fiona.open('/Users/mhabiger/Desktop/KCMO Hackathon/Common/centerlines/Centerline.shp')"
     ],
     "language": "python",
     "metadata": {},
     "outputs": []
    },
    {
     "cell_type": "code",
     "collapsed": false,
     "input": [
      "len(c)"
     ],
     "language": "python",
     "metadata": {},
     "outputs": []
    },
    {
     "cell_type": "code",
     "collapsed": false,
     "input": [
      "import pprint"
     ],
     "language": "python",
     "metadata": {},
     "outputs": []
    },
    {
     "cell_type": "code",
     "collapsed": false,
     "input": [
      "pprint.pprint(c.schema)"
     ],
     "language": "python",
     "metadata": {},
     "outputs": []
    },
    {
     "cell_type": "code",
     "collapsed": false,
     "input": [
      "rec = next(c)"
     ],
     "language": "python",
     "metadata": {},
     "outputs": []
    },
    {
     "cell_type": "code",
     "collapsed": false,
     "input": [
      "rec"
     ],
     "language": "python",
     "metadata": {},
     "outputs": []
    },
    {
     "cell_type": "code",
     "collapsed": false,
     "input": [
      "rec['geometry']"
     ],
     "language": "python",
     "metadata": {},
     "outputs": []
    },
    {
     "cell_type": "code",
     "collapsed": false,
     "input": [
      "pd.DataFrame([dict(rec['properties'])])"
     ],
     "language": "python",
     "metadata": {},
     "outputs": []
    },
    {
     "cell_type": "code",
     "collapsed": false,
     "input": [
      "# Combining keys and values as tuple\n",
      "zip(rec['properties'].keys(),rec['properties'].values())"
     ],
     "language": "python",
     "metadata": {},
     "outputs": []
    },
    {
     "cell_type": "code",
     "collapsed": false,
     "input": [
      "dict(rec['geometry'])"
     ],
     "language": "python",
     "metadata": {},
     "outputs": []
    },
    {
     "cell_type": "code",
     "collapsed": false,
     "input": [
      "# Creating list of lists for shapefile data. Extracting coordinates and database fields\n",
      "records = []\n",
      "for rec in c:\n",
      "    tmp = dict()\n",
      "    for j,k in dict(rec['geometry']).items():\n",
      "        tmp[j]=k\n",
      "    for j,k in dict(rec['properties']).items():\n",
      "        tmp[j]=k\n",
      "    records.append(tmp)"
     ],
     "language": "python",
     "metadata": {},
     "outputs": []
    },
    {
     "cell_type": "code",
     "collapsed": false,
     "input": [
      "# Writing data out to file \n",
      "pd.DataFrame(records).to_csv('/users/mhabiger/Desktop/KCMO Hackathon/Common/street_centerlines')"
     ],
     "language": "python",
     "metadata": {},
     "outputs": []
    },
    {
     "cell_type": "code",
     "collapsed": false,
     "input": [
      "# Yet another module to read just the extra database files created by shapefile...a long story but basically their is a\n",
      "# hierarchy of geographic data\n",
      "import from dbfpy import dbf\n",
      "db = dbf.Dbf(\"/Users/mhabiger/Desktop/KCMO Hackathon/Common/centerlines/STREETTYPES.dbf\")\n",
      "print db.fieldNames\n",
      "print db[9]\n",
      "print db.header"
     ],
     "language": "python",
     "metadata": {},
     "outputs": []
    },
    {
     "cell_type": "code",
     "collapsed": false,
     "input": [
      "pd.DataFrame(db)"
     ],
     "language": "python",
     "metadata": {},
     "outputs": []
    },
    {
     "cell_type": "code",
     "collapsed": false,
     "input": [
      "db.recordCount\n"
     ],
     "language": "python",
     "metadata": {},
     "outputs": []
    },
    {
     "cell_type": "code",
     "collapsed": false,
     "input": [
      "# Playing around with matplotlib and graphing centerlines files...this probably isn't all correct\n",
      "import matplotlib.pyplot as plt\n",
      "from matplotlib.path import Path\n",
      "import matplotlib.patches as patches\n",
      "import numpy as np"
     ],
     "language": "python",
     "metadata": {},
     "outputs": []
    },
    {
     "cell_type": "code",
     "collapsed": false,
     "input": [
      "# This basically creates a long list of polygons to plot. It's actually not right because I'm closing them \n",
      "# when they should be just line segments.\n",
      "verts = []\n",
      "codes = []\n",
      "for poly in records:\n",
      "    code = [1]+(len(list(poly))-2)*[2]+[79]\n",
      "    vert = poly\n",
      "    verts = verts+vert\n",
      "    codes = codes+code\n",
      "    \n",
      "ray = np.array(verts)\n",
      "minx = min(ray[:,0])\n",
      "maxx = max(ray[:,0])\n",
      "miny = min(ray[:,1])\n",
      "maxy = max(ray[:,1])\n",
      "\n",
      "path = Path(verts, codes)\n",
      "\n",
      "fig = plt.figure()\n",
      "ax = fig.add_subplot(111)\n",
      "patch = patches.PathPatch(path, facecolor='orange', lw=2)\n",
      "ax.add_patch(patch)\n",
      "ax.set_xlim(minx,maxx)\n",
      "ax.set_ylim(miny,maxy)\n",
      "plt.show()"
     ],
     "language": "python",
     "metadata": {},
     "outputs": []
    },
    {
     "cell_type": "code",
     "collapsed": false,
     "input": [],
     "language": "python",
     "metadata": {},
     "outputs": []
    }
   ],
   "metadata": {}
  }
 ]
}